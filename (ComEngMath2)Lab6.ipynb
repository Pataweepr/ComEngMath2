{
  "nbformat": 4,
  "nbformat_minor": 0,
  "metadata": {
    "colab": {
      "name": "(ComEngMath2)Lab6.ipynb",
      "provenance": [],
      "collapsed_sections": [],
      "authorship_tag": "ABX9TyMRq+TNmpKd8c8BMr8O5ojX",
      "include_colab_link": true
    },
    "kernelspec": {
      "name": "python3",
      "display_name": "Python 3"
    }
  },
  "cells": [
    {
      "cell_type": "markdown",
      "metadata": {
        "id": "view-in-github",
        "colab_type": "text"
      },
      "source": [
        "<a href=\"https://colab.research.google.com/github/Pataweepr/ComEngMath2/blob/master/(ComEngMath2)Lab6.ipynb\" target=\"_parent\"><img src=\"https://colab.research.google.com/assets/colab-badge.svg\" alt=\"Open In Colab\"/></a>"
      ]
    },
    {
      "cell_type": "markdown",
      "metadata": {
        "id": "tBn1ddc3FNT3",
        "colab_type": "text"
      },
      "source": [
        "## Problem 1\n",
        "Find the Fourier tranform of the following signals in terms of $X(\\omega)$, the Fourier tranform of $x(t)$ \n",
        "\n",
        "\n",
        "$ \\left( \\mathscr{F} \\left\\{ x(t) \\right\\} = X(\\omega) \\right)  $ \n",
        "\n",
        "1. $x(-t)$\n",
        "1. $x_e(t) = \\frac{x(t) + x(-t)}{2}$\n",
        "1. $x_o(t) = \\frac{x(t) - x(-t)}{2}$\n",
        "1. $x^{*}(t) $\n",
        "1. $ \\textrm{Re} \\left\\{ x(t) \\right\\} = \\frac{x(t) + x^{*}(t)}{2}  $\n",
        "1. $ \\textrm{Im} \\left\\{ x(t) \\right\\} = \\frac{x(t) - x^{*}(t)}{2j}  $"
      ]
    },
    {
      "cell_type": "markdown",
      "metadata": {
        "id": "qppKj0_6GQMm",
        "colab_type": "text"
      },
      "source": [
        "## Problem 2\n",
        "Determine which of the following signals have a Fourier tranform. Why?\n",
        "\n",
        "1. $x(t) = \\exp[-2t]u(t)$\n",
        "1. $x(t) = |t|u(t)$\n",
        "1. $x(t) = \\cos\\left( \\frac{\\pi}{t} \\right)$\n",
        "1. $x(t) = \\frac{1}{t} $\n",
        "1. $x(t) = t^{2}\\exp[-2t]u(t) $\n"
      ]
    },
    {
      "cell_type": "markdown",
      "metadata": {
        "id": "9-pRIkFMJtgK",
        "colab_type": "text"
      },
      "source": [
        "## Problem 3\n",
        "Let $  \\mathscr{F} \\left\\{ x(t) \\right\\} = X(\\omega) = \\textrm{rect} \\left[ (\\omega-1)/2\\right]  $. Find the tranform of Fourier tranform:\n",
        "\n",
        "1. $x(-t)$\n",
        "1. $tx(t)$\n",
        "1. $x(t+1)$\n",
        "1. $x(-2t+4)$\n",
        "1. $(t-1)x(t-1)$\n",
        "1. $ \\frac{dx(t)}{dt}$\n",
        "1. $ t\\frac{dx(t)}{dt}$\n",
        "1. $ x(2t-1)\\exp[-j2t]$\n",
        "1. $ x(t)\\exp[-j2t]$\n",
        "1. $ tx(t)\\exp[-j2t]$\n",
        "\n"
      ]
    }
  ]
}