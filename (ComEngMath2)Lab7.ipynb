{
  "nbformat": 4,
  "nbformat_minor": 0,
  "metadata": {
    "colab": {
      "name": "(ComEngMath2)Lab7.ipynb",
      "provenance": [],
      "collapsed_sections": [],
      "authorship_tag": "ABX9TyPTks3vbVHV7gGZ2Dy/X6F5",
      "include_colab_link": true
    },
    "kernelspec": {
      "name": "python3",
      "display_name": "Python 3"
    }
  },
  "cells": [
    {
      "cell_type": "markdown",
      "metadata": {
        "id": "view-in-github",
        "colab_type": "text"
      },
      "source": [
        "<a href=\"https://colab.research.google.com/github/Pataweepr/ComEngMath2/blob/master/(ComEngMath2)Lab7.ipynb\" target=\"_parent\"><img src=\"https://colab.research.google.com/assets/colab-badge.svg\" alt=\"Open In Colab\"/></a>"
      ]
    },
    {
      "cell_type": "code",
      "metadata": {
        "id": "NJJRGQUCEuNE",
        "colab_type": "code",
        "colab": {}
      },
      "source": [
        "import matplotlib.pyplot as plt \n",
        "import numpy as np "
      ],
      "execution_count": null,
      "outputs": []
    },
    {
      "cell_type": "markdown",
      "metadata": {
        "id": "tBn1ddc3FNT3",
        "colab_type": "text"
      },
      "source": [
        "## Problem 1\n",
        "กำลังหาอยู่"
      ]
    },
    {
      "cell_type": "markdown",
      "metadata": {
        "id": "qppKj0_6GQMm",
        "colab_type": "text"
      },
      "source": [
        "## Problem 2\n",
        "analysis sound\n"
      ]
    },
    {
      "cell_type": "markdown",
      "metadata": {
        "id": "9-pRIkFMJtgK",
        "colab_type": "text"
      },
      "source": [
        "## Problem 3\n",
        "Prove Aliasing\n",
        "\n"
      ]
    },
    {
      "cell_type": "markdown",
      "metadata": {
        "id": "io-e0TjvAZFv",
        "colab_type": "text"
      },
      "source": [
        "## Problem 4\n",
        "Filter แบบง่าย optional"
      ]
    }
  ]
}