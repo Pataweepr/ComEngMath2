{
  "nbformat": 4,
  "nbformat_minor": 0,
  "metadata": {
    "colab": {
      "name": "(ComEngMath2)Lab4.ipynb",
      "provenance": [],
      "collapsed_sections": [],
      "authorship_tag": "ABX9TyPynm7GMr12Bdecu/Mz7usw",
      "include_colab_link": true
    },
    "kernelspec": {
      "name": "python3",
      "display_name": "Python 3"
    }
  },
  "cells": [
    {
      "cell_type": "markdown",
      "metadata": {
        "id": "view-in-github",
        "colab_type": "text"
      },
      "source": [
        "<a href=\"https://colab.research.google.com/github/Pataweepr/ComEngMath2/blob/master/(ComEngMath2)Lab4.ipynb\" target=\"_parent\"><img src=\"https://colab.research.google.com/assets/colab-badge.svg\" alt=\"Open In Colab\"/></a>"
      ]
    },
    {
      "cell_type": "code",
      "metadata": {
        "id": "NJJRGQUCEuNE",
        "colab_type": "code",
        "colab": {}
      },
      "source": [
        "import matplotlib.pyplot as plt \n",
        "import numpy as np "
      ],
      "execution_count": null,
      "outputs": []
    },
    {
      "cell_type": "markdown",
      "metadata": {
        "id": "tBn1ddc3FNT3",
        "colab_type": "text"
      },
      "source": [
        "## Problem 1\n",
        "Sketch the following signal\n",
        "1. \n",
        "$x(t) = \\sin \\left (\\frac{\\pi}{4}t + 20^\\circ \\right)$\n",
        "\n",
        "2. \n",
        "$x(t) = t + e^{3t}, 0 \\leq t \\leq 2$\n",
        "\n",
        "\n",
        "3. \n",
        "$x(t) = \\begin{cases}\n",
        "            t+2 , t \\leq -2 \\\\\n",
        "            0 , -2 \\leq t \\leq 2\\\\\n",
        "            t-2 , t \\geq 2\n",
        "        \\end{cases}$\n",
        "\n",
        "4. \n",
        "$x(t) = 2e^{-t}, 0 \\leq t \\leq 1$ and $ x(t+1) = x(t) $ for all $t$\n",
        "\n",
        "\n"
      ]
    },
    {
      "cell_type": "markdown",
      "metadata": {
        "id": "qppKj0_6GQMm",
        "colab_type": "text"
      },
      "source": [
        "## Problem 2\n",
        "Are the following signals periodics? If so, find thier periods.\n",
        "1. \n",
        "$x(t) = u(t) + 5u(t-1) -2u(t-2)$\n",
        "\n",
        "2. \n",
        "$x(t) = r(t) - r(t-1) - u(t-2)$\n",
        "\n",
        "\n",
        "3. \n",
        "$x(t) = \\exp[-t]u(t)$\n",
        "\n",
        "4. \n",
        "$x(t) = 2u(t) + \\delta (t-1)$ "
      ]
    },
    {
      "cell_type": "markdown",
      "metadata": {
        "id": "9-pRIkFMJtgK",
        "colab_type": "text"
      },
      "source": [
        "## Problem 3\n",
        "Are the following signals periodics? If so, find thier periods.\n",
        "1. \n",
        "$x(t) = \\sin \\left( \\frac{\\pi}{3}t \\right) + \\cos \\left( \\frac{8\\pi}{3}t \\right)$\n",
        "2. \n",
        "$x(t) = \\exp \\left[ j\\frac{7\\pi}{6}t \\right] +  exp \\left[ j\\frac{5\\pi}{6}t \\right] $\n",
        "\n",
        "3. \n",
        "$x(t) = \\exp \\left[ j\\frac{7\\pi}{6}t \\right] +  exp \\left[ j\\frac{5\\pi}{6}t \\right] $\n",
        "\n",
        "4. \n",
        "$x(t) = \\exp \\left[ j\\frac{7\\pi}{6}t \\right] +  exp \\left[ \\frac{5\\pi}{6}t \\right] $\n",
        "\n",
        "5. \n",
        "$x(t) = \\exp \\left[ j\\frac{5\\pi}{6}t \\right] +  exp \\left[ \\frac{\\pi}{6}t \\right] $\n",
        "\n",
        "6. \n",
        "$x(t) = 2\\sin \\left ( \\frac{3\\pi}{8}t  \\right) + \\cos \\left( \\frac{3}{4}t \\right)$"
      ]
    },
    {
      "cell_type": "markdown",
      "metadata": {
        "id": "XetANJCAAX40",
        "colab_type": "text"
      },
      "source": [
        "## Problem 4\n",
        "Determine whether the following signals are power signal or energy signals or neither. Just your answer\n",
        "\n",
        "1. $x(t) = A\\sin( t ), -\\infty < t < \\infty$\n",
        "2. $x(t) = A[u(t-a) - u(t+a)] $\n",
        "2. $x(t) = r(t) - r(t-1) $\n",
        "2. $x(t) = \\exp[-at]u(t) $\n",
        "2. $x(t) = tu(t) $\n",
        "2. $x(t) = u(t) $\n",
        "2. $x(t) = A\\exp[bt], b>0$\n",
        "\n"
      ]
    },
    {
      "cell_type": "markdown",
      "metadata": {
        "id": "io-e0TjvAZFv",
        "colab_type": "text"
      },
      "source": [
        "## Problem 5\n",
        "For the discrete time signal show in Figure x , sketch each of the following\n",
        "\n",
        "1. $x(2-n) $\n",
        "2. $x(3n-4) $\n",
        "2. $x \\left(\\frac{2}{3}n+1 \\right) $\n",
        "2. $x \\left(-\\frac{n+8}{4} \\right) $\n",
        "2. $x_e(n) $\n",
        "2. $x_o(n) $\n",
        "2. $x(2-n) +x(3n-4) $"
      ]
    },
    {
      "cell_type": "code",
      "metadata": {
        "id": "ZOBvzNUSA5Ie",
        "colab_type": "code",
        "colab": {
          "base_uri": "https://localhost:8080/",
          "height": 319
        },
        "outputId": "5f090147-2564-4cc2-bc7b-7402d2d2c607"
      },
      "source": [
        "t = np.arange(-2,4)\n",
        "x_t = np.array([-3,1,2,-2,3,-1])\n",
        "plt.stem(t, x_t)\n",
        "plt.show()"
      ],
      "execution_count": null,
      "outputs": [
        {
          "output_type": "stream",
          "text": [
            "/usr/local/lib/python3.6/dist-packages/ipykernel_launcher.py:4: UserWarning: In Matplotlib 3.3 individual lines on a stem plot will be added as a LineCollection instead of individual lines. This significantly improves the performance of a stem plot. To remove this warning and switch to the new behaviour, set the \"use_line_collection\" keyword argument to True.\n",
            "  after removing the cwd from sys.path.\n"
          ],
          "name": "stderr"
        },
        {
          "output_type": "display_data",
          "data": {
            "image/png": "[encoded data removed]",
            "text/plain": [
              "<Figure size 432x288 with 1 Axes>"
            ]
          },
          "metadata": {
            "tags": [],
            "needs_background": "light"
          }
        }
      ]
    },
    {
      "cell_type": "code",
      "metadata": {
        "id": "9zagqd_kBZeZ",
        "colab_type": "code",
        "colab": {
          "base_uri": "https://localhost:8080/",
          "height": 319
        },
        "outputId": "4c04d50c-a3f0-46ab-a6ab-f097beebf37c"
      },
      "source": [
        "t = np.arange(6)\n",
        "x_t = np.array([-1,1/3,0,1,-3/2,-1])\n",
        "plt.stem(t, x_t)\n",
        "plt.show()"
      ],
      "execution_count": null,
      "outputs": [
        {
          "output_type": "stream",
          "text": [
            "/usr/local/lib/python3.6/dist-packages/ipykernel_launcher.py:3: UserWarning: In Matplotlib 3.3 individual lines on a stem plot will be added as a LineCollection instead of individual lines. This significantly improves the performance of a stem plot. To remove this warning and switch to the new behaviour, set the \"use_line_collection\" keyword argument to True.\n",
            "  This is separate from the ipykernel package so we can avoid doing imports until\n"
          ],
          "name": "stderr"
        },
        {
          "output_type": "display_data",
          "data": {
            "image/png": "[encoded data removed]",
            "text/plain": [
              "<Figure size 432x288 with 1 Axes>"
            ]
          },
          "metadata": {
            "tags": [],
            "needs_background": "light"
          }
        }
      ]
    },
    {
      "cell_type": "code",
      "metadata": {
        "id": "OalqRJxnC536",
        "colab_type": "code",
        "colab": {}
      },
      "source": [
        ""
      ],
      "execution_count": null,
      "outputs": []
    },
    {
      "cell_type": "markdown",
      "metadata": {
        "id": "L9nvrT3VDF7z",
        "colab_type": "text"
      },
      "source": [
        "## Problem 7\n",
        "Determine wheather each of following signals is periodic, and if it is, find the its period.\n",
        "\n",
        "1. \n",
        "$x(n) = \\sin \\left( \\frac{\\pi n}{4} + \\frac{\\pi}{8}\\right)$\n",
        "\n",
        "1. \n",
        "$x(n) = \\sin \\left( \\frac{3\\pi n}{4}\\right) + \\sin\\left( \\frac{\\pi}{3}n\\right)$\n",
        "\n",
        "1. \n",
        "$x(n) = \\sin \\left( \\frac{3\\pi n}{4}\\right)\\sin\\left( \\frac{\\pi}{3}n\\right)$\n",
        "\n",
        "1. \n",
        "$x(n) = \\exp \\left[ \\frac{6\\pi}{5}n \\right]$\n",
        "\n",
        "1. \n",
        "$x(n) = \\exp \\left[ j\\frac{5\\pi}{6}n \\right]$\n",
        "\n",
        "1. \n",
        "$x(n) =  \\sum_{n=1}^{\\infty} \\left[ \\delta(n-2m) + 2\\delta(n-3m) \\right]$\n",
        "\n",
        "1. \n",
        "$x(n) = \\sin \\left( \\frac{3\\pi n}{4}\\right) + \\cos \\left( \\frac{\\pi}{3} n \\right)$"
      ]
    },
    {
      "cell_type": "markdown",
      "metadata": {
        "id": "6OG_gQWpFt1_",
        "colab_type": "text"
      },
      "source": [
        " Signal transformation [python]"
      ]
    },
    {
      "cell_type": "code",
      "metadata": {
        "id": "B7QaAJojFzgO",
        "colab_type": "code",
        "colab": {}
      },
      "source": [
        ""
      ],
      "execution_count": null,
      "outputs": []
    },
    {
      "cell_type": "markdown",
      "metadata": {
        "id": "NY6ShmCFFz_0",
        "colab_type": "text"
      },
      "source": [
        " [python] Elementary signals"
      ]
    }
  ]
}