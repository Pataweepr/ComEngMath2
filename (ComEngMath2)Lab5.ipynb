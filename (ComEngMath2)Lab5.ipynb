{
  "nbformat": 4,
  "nbformat_minor": 0,
  "metadata": {
    "colab": {
      "name": "(ComEngMath2)Lab5.ipynb",
      "provenance": [],
      "collapsed_sections": [],
      "authorship_tag": "ABX9TyOz79zfD5+/aQJT1idoqK+1",
      "include_colab_link": true
    },
    "kernelspec": {
      "name": "python3",
      "display_name": "Python 3"
    }
  },
  "cells": [
    {
      "cell_type": "markdown",
      "metadata": {
        "id": "view-in-github",
        "colab_type": "text"
      },
      "source": [
        "<a href=\"https://colab.research.google.com/github/Pataweepr/ComEngMath2/blob/master/(ComEngMath2)Lab5.ipynb\" target=\"_parent\"><img src=\"https://colab.research.google.com/assets/colab-badge.svg\" alt=\"Open In Colab\"/></a>"
      ]
    },
    {
      "cell_type": "code",
      "metadata": {
        "id": "NJJRGQUCEuNE",
        "colab_type": "code",
        "colab": {}
      },
      "source": [
        "import matplotlib.pyplot as plt \n",
        "import numpy as np "
      ],
      "execution_count": null,
      "outputs": []
    },
    {
      "cell_type": "markdown",
      "metadata": {
        "id": "tBn1ddc3FNT3",
        "colab_type": "text"
      },
      "source": [
        "## Problem 1\n",
        "Evaluate the following convolutions\n",
        "1. \n",
        "$ \\textrm{rect} \\left( \\frac{t-a}{a} \\right) * \\delta (t-b)$\n",
        "\n",
        "2. \n",
        "$\\textrm{rect} \\left( \\frac{t}{a} \\right) * \\textrm{rect} \\left( \\frac{t}{a} \\right) $\n",
        "\n",
        "2. \n",
        "$\\textrm{rect} \\left( \\frac{t}{a} \\right) * u(t) $\n",
        "\n",
        "2. \n",
        "$\\textrm{rect} \\left( \\frac{t}{a} \\right) * \\textrm{sgn}(t) $\n",
        "\n",
        "2. \n",
        "$ u(t)*u(t) $\n",
        "\n",
        "2. \n",
        "$ t[u(t)-u(t-1)]*u(t) $\n",
        "\n",
        "2. \n",
        "$ \\textrm{rect}\\left( \\frac{t}{a} \\right) *r(t) $\n",
        "\n",
        "2. \n",
        "$ r(t)*[\\textrm{sgn}(t) + u(-t-1) ] $\n",
        "\n",
        "2. \n",
        "$ [u(t+1)-u(t-1)]\\textrm{sgn}(t) * u(t)$\n",
        "\n",
        "2. \n",
        "$ u(t) * \\delta'(t)$\n"
      ]
    },
    {
      "cell_type": "markdown",
      "metadata": {
        "id": "qppKj0_6GQMm",
        "colab_type": "text"
      },
      "source": [
        "## Problem 2\n",
        "Graphic\n"
      ]
    },
    {
      "cell_type": "markdown",
      "metadata": {
        "id": "9-pRIkFMJtgK",
        "colab_type": "text"
      },
      "source": [
        "## Problem 3\n",
        "Find the convolution $y(n) = h(n)*x(n)$ of the following signal \n",
        "1. \n",
        "$x(t) = \\begin{cases}\n",
        "            -1 , -5 \\leq n \\leq -1 \\\\\n",
        "            1 , 0 \\leq n \\leq 4\n",
        "        \\end{cases},\\, h(n)=2u(n)$\n",
        "\n",
        "1. \n",
        "$x(t) = \\left( \\frac{1}{2} \\right)^n u(n),\\, h(n) = \\delta(n) +\\delta(n-1) +  \\left( \\frac{1}{3} \\right)^n u(n)$\n",
        "\n",
        "1. \n",
        "$x(t) = u(n),\\, h(n) = 1 \\; 0 \\leq n \\leq 9 $\n",
        "\n",
        "1. \n",
        "$x(t) = \\left( \\frac{1}{3} \\right)^n u(n),\\, h(n) = \\delta(n) + \\left( \\frac{1}{3} \\right)^n u(n)$\n",
        "\n",
        "1. \n",
        "$x(t) = \\left( \\frac{1}{3} \\right)^n u(n),\\, h(n) = \\delta(n) + \\left( \\frac{1}{2} \\right)^n u(n)$"
      ]
    },
    {
      "cell_type": "markdown",
      "metadata": {
        "id": "XetANJCAAX40",
        "colab_type": "text"
      },
      "source": [
        "## Problem 4\n",
        "Find the convolution $y(n) = h(n)*x(n)$ of the following signal \n",
        "1. \n",
        "$x(t) = \\left\\{ 1,-\\frac{1}{2},\\frac{1}{4},-\\frac{1}{8} ,\\frac{1}{16} \\right \\},\\, h(n)=\\left\\{ 1,-1,1,-1 \\right\\}$\n",
        "\n",
        "1. \n",
        "$x(t) = \\left\\{ 1,2,3,0,-1, \\right \\},\\, h(n)=\\left\\{ 2,-1,3,1,-2 \\right\\}$\n",
        "\n",
        "1. \n",
        "$x(t) = \\left\\{ 3,\\frac{1}{2},-\\frac{1}{4},1,4 \\right \\},\\, h(n)=\\left\\{ 2,-1,\\frac{1}{2}, -\\frac{1}{2} \\right\\}$\n",
        "\n",
        "1. \n",
        "$x(t) = \\left\\{ -1,\\frac{1}{2},\\frac{3}{4},-\\frac{1}{5},1 \\right \\},\\, h(n)=\\left\\{ 1,1,1,1,1 \\right\\}$\n",
        "\n"
      ]
    },
    {
      "cell_type": "markdown",
      "metadata": {
        "id": "io-e0TjvAZFv",
        "colab_type": "text"
      },
      "source": [
        "## Problem 5\n",
        "Aliasing"
      ]
    },
    {
      "cell_type": "code",
      "metadata": {
        "id": "ZOBvzNUSA5Ie",
        "colab_type": "code",
        "colab": {}
      },
      "source": [
        "# t = np.arange(-2,4)\n",
        "# x_t = np.array([-3,1,2,-2,3,-1])\n",
        "# plt.stem(t, x_t)\n",
        "# plt.show()"
      ],
      "execution_count": null,
      "outputs": []
    },
    {
      "cell_type": "markdown",
      "metadata": {
        "id": "E2z8aIZCrTiW",
        "colab_type": "text"
      },
      "source": [
        "## Problem 6\n",
        "Convolution - 1D "
      ]
    },
    {
      "cell_type": "code",
      "metadata": {
        "id": "9zagqd_kBZeZ",
        "colab_type": "code",
        "colab": {}
      },
      "source": [
        "# t = np.arange(6)\n",
        "# x_t = np.array([-1,1/3,0,1,-3/2,-1])\n",
        "# plt.stem(t, x_t)\n",
        "# plt.show()"
      ],
      "execution_count": 1,
      "outputs": []
    },
    {
      "cell_type": "markdown",
      "metadata": {
        "id": "SdDkaWWGrt7F",
        "colab_type": "text"
      },
      "source": [
        "## Problem 7\n",
        "2D (image) ในตัวอย่างสไลด์ หน้า 7 ให้ filter เส้นทแยงง่ายๆ และให้ทำกับภาพ circuit จะเห็นส่วนที่ซ้อนทับมีค่าขึ้นมา (เป็นสีขาว)"
      ]
    },
    {
      "cell_type": "code",
      "metadata": {
        "id": "OalqRJxnC536",
        "colab_type": "code",
        "colab": {}
      },
      "source": [
        ""
      ],
      "execution_count": null,
      "outputs": []
    }
  ]
}